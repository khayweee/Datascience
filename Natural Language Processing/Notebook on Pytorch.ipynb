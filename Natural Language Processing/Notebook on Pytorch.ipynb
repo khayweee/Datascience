{
 "cells": [
  {
   "cell_type": "code",
   "execution_count": 1,
   "id": "3b578d3d",
   "metadata": {},
   "outputs": [],
   "source": [
    "import torch\n",
    "import torch.nn as nn\n",
    "import numpy as np\n",
    "import torch.nn.functional as F"
   ]
  },
  {
   "cell_type": "code",
   "execution_count": 30,
   "id": "fd65d276",
   "metadata": {
    "scrolled": true
   },
   "outputs": [
    {
     "data": {
      "text/plain": [
       "tensor([[1, 3]])"
      ]
     },
     "execution_count": 30,
     "metadata": {},
     "output_type": "execute_result"
    }
   ],
   "source": [
    "a = torch.randint(5,(1,2))\n",
    "a"
   ]
  },
  {
   "cell_type": "code",
   "execution_count": 33,
   "id": "4c01fd21",
   "metadata": {},
   "outputs": [
    {
     "data": {
      "text/plain": [
       "tensor([[1, 3]])"
      ]
     },
     "execution_count": 33,
     "metadata": {},
     "output_type": "execute_result"
    }
   ],
   "source": [
    "a.view(-1,a.shape[-1])"
   ]
  },
  {
   "cell_type": "code",
   "execution_count": 26,
   "id": "cdfafbc4",
   "metadata": {},
   "outputs": [
    {
     "data": {
      "text/plain": [
       "tensor([0, 4])"
      ]
     },
     "execution_count": 26,
     "metadata": {},
     "output_type": "execute_result"
    }
   ],
   "source": [
    "torch.randint(5,(1,2)).view(-1)"
   ]
  },
  {
   "cell_type": "code",
   "execution_count": 54,
   "id": "ea717ce7",
   "metadata": {},
   "outputs": [],
   "source": [
    "START=1\n",
    "batch_size = 5\n",
    "start_char_ids = [[START] * batch_size]\n",
    "current_char_ids = torch.tensor([START for _ in range(batch_size)]).unsqueeze(0)\n"
   ]
  },
  {
   "cell_type": "code",
   "execution_count": 55,
   "id": "58b512a6",
   "metadata": {},
   "outputs": [
    {
     "data": {
      "text/plain": [
       "tensor([[1, 1, 1, 1, 1]])"
      ]
     },
     "execution_count": 55,
     "metadata": {},
     "output_type": "execute_result"
    }
   ],
   "source": [
    "current_char_ids"
   ]
  },
  {
   "cell_type": "code",
   "execution_count": 56,
   "id": "42c9fd00",
   "metadata": {},
   "outputs": [],
   "source": [
    "a = torch.randn((1,3,2))"
   ]
  },
  {
   "cell_type": "code",
   "execution_count": 57,
   "id": "a881218c",
   "metadata": {},
   "outputs": [
    {
     "data": {
      "text/plain": [
       "tensor([[[-0.7952,  1.4564],\n",
       "         [ 1.5980, -0.6155],\n",
       "         [ 0.6012,  0.8505]]])"
      ]
     },
     "execution_count": 57,
     "metadata": {},
     "output_type": "execute_result"
    }
   ],
   "source": [
    "a"
   ]
  },
  {
   "cell_type": "code",
   "execution_count": 61,
   "id": "f97dc8b7",
   "metadata": {},
   "outputs": [
    {
     "data": {
      "text/plain": [
       "tensor([[-0.7952,  1.4564],\n",
       "        [ 1.5980, -0.6155],\n",
       "        [ 0.6012,  0.8505]])"
      ]
     },
     "execution_count": 61,
     "metadata": {},
     "output_type": "execute_result"
    }
   ],
   "source": [
    "a.squeeze(0)"
   ]
  },
  {
   "cell_type": "code",
   "execution_count": 62,
   "id": "9781d671",
   "metadata": {},
   "outputs": [],
   "source": [
    "prob = torch.softmax(a.squeeze(0), dim=1)"
   ]
  },
  {
   "cell_type": "code",
   "execution_count": 63,
   "id": "147f43ff",
   "metadata": {},
   "outputs": [
    {
     "data": {
      "text/plain": [
       "tensor([[0.0952, 0.9048],\n",
       "        [0.9015, 0.0985],\n",
       "        [0.4380, 0.5620]])"
      ]
     },
     "execution_count": 63,
     "metadata": {},
     "output_type": "execute_result"
    }
   ],
   "source": [
    "prob"
   ]
  },
  {
   "cell_type": "code",
   "execution_count": 66,
   "id": "d58f0da6",
   "metadata": {
    "scrolled": true
   },
   "outputs": [
    {
     "data": {
      "text/plain": [
       "tensor([[1, 0, 1]])"
      ]
     },
     "execution_count": 66,
     "metadata": {},
     "output_type": "execute_result"
    }
   ],
   "source": [
    "torch.argmax(prob,dim=1).unsqueeze(0)"
   ]
  },
  {
   "cell_type": "code",
   "execution_count": 71,
   "id": "e1ced292",
   "metadata": {},
   "outputs": [
    {
     "data": {
      "text/plain": [
       "tensor([[0],\n",
       "        [0]])"
      ]
     },
     "execution_count": 71,
     "metadata": {},
     "output_type": "execute_result"
    }
   ],
   "source": [
    "torch.stack((torch.tensor([0]),torch.tensor([0])))"
   ]
  },
  {
   "cell_type": "markdown",
   "id": "7dc62537",
   "metadata": {},
   "source": [
    "# cuda"
   ]
  },
  {
   "cell_type": "code",
   "execution_count": 3,
   "id": "4815d1e0",
   "metadata": {},
   "outputs": [
    {
     "data": {
      "text/plain": [
       "device(type='cuda')"
      ]
     },
     "execution_count": 3,
     "metadata": {},
     "output_type": "execute_result"
    }
   ],
   "source": [
    "torch.device('cuda')"
   ]
  },
  {
   "cell_type": "markdown",
   "id": "5f65a38d",
   "metadata": {},
   "source": [
    "torch.zeros"
   ]
  },
  {
   "cell_type": "code",
   "execution_count": 30,
   "id": "67b68eee",
   "metadata": {},
   "outputs": [
    {
     "data": {
      "text/plain": [
       "tensor([[[0., 0., 0., 0., 0.],\n",
       "         [0., 0., 0., 0., 0.]],\n",
       "\n",
       "        [[0., 0., 0., 0., 0.],\n",
       "         [0., 0., 0., 0., 0.]],\n",
       "\n",
       "        [[0., 0., 0., 0., 0.],\n",
       "         [0., 0., 0., 0., 0.]],\n",
       "\n",
       "        [[0., 0., 0., 0., 0.],\n",
       "         [0., 0., 0., 0., 0.]],\n",
       "\n",
       "        [[0., 0., 0., 0., 0.],\n",
       "         [0., 0., 0., 0., 0.]]])"
      ]
     },
     "execution_count": 30,
     "metadata": {},
     "output_type": "execute_result"
    }
   ],
   "source": [
    "torch.zeros(5,2,5)"
   ]
  },
  {
   "cell_type": "markdown",
   "id": "e4542fc2",
   "metadata": {},
   "source": [
    "# nn.embedding"
   ]
  },
  {
   "cell_type": "code",
   "execution_count": 138,
   "id": "19a26d54",
   "metadata": {},
   "outputs": [],
   "source": [
    "# an Embedding module containing 10 tensors of size 3\n",
    "embedding = nn.Embedding(10, 3)"
   ]
  },
  {
   "cell_type": "code",
   "execution_count": 160,
   "id": "2e7deaaa",
   "metadata": {},
   "outputs": [],
   "source": [
    "# a batch of 2 samples of 4 indices each\n",
    "input = torch.LongTensor([[[1,2],\n",
    "                          [4,3]],\n",
    "                          \n",
    "                          [[1,2],\n",
    "                           [5,6]]])"
   ]
  },
  {
   "cell_type": "code",
   "execution_count": 161,
   "id": "713f7998",
   "metadata": {
    "scrolled": true
   },
   "outputs": [
    {
     "data": {
      "text/plain": [
       "torch.Size([2, 2, 2])"
      ]
     },
     "execution_count": 161,
     "metadata": {},
     "output_type": "execute_result"
    }
   ],
   "source": [
    "input.shape"
   ]
  },
  {
   "cell_type": "code",
   "execution_count": 162,
   "id": "fa0c8e8f",
   "metadata": {},
   "outputs": [],
   "source": [
    "emb = embedding(input)"
   ]
  },
  {
   "cell_type": "code",
   "execution_count": 163,
   "id": "f19b8659",
   "metadata": {
    "scrolled": true
   },
   "outputs": [
    {
     "data": {
      "text/plain": [
       "torch.Size([2, 2, 2, 3])"
      ]
     },
     "execution_count": 163,
     "metadata": {},
     "output_type": "execute_result"
    }
   ],
   "source": [
    "emb.shape"
   ]
  },
  {
   "cell_type": "code",
   "execution_count": 164,
   "id": "c439e1f4",
   "metadata": {},
   "outputs": [
    {
     "data": {
      "text/plain": [
       "tensor([[[[ 0.9050, -1.0441, -1.3340],\n",
       "          [-2.2785, -0.3628, -0.7464]],\n",
       "\n",
       "         [[-1.7664,  1.4555,  1.4739],\n",
       "          [ 1.9053, -0.2970, -0.6306]]],\n",
       "\n",
       "\n",
       "        [[[ 0.9050, -1.0441, -1.3340],\n",
       "          [-2.2785, -0.3628, -0.7464]],\n",
       "\n",
       "         [[ 0.0059,  0.4572,  1.0697],\n",
       "          [-1.0006,  0.2649,  0.6547]]]], grad_fn=<EmbeddingBackward0>)"
      ]
     },
     "execution_count": 164,
     "metadata": {},
     "output_type": "execute_result"
    }
   ],
   "source": [
    "emb"
   ]
  },
  {
   "cell_type": "code",
   "execution_count": 167,
   "id": "452febc4",
   "metadata": {},
   "outputs": [
    {
     "data": {
      "text/plain": [
       "tensor([[[ 0.9050, -1.0441, -1.3340],\n",
       "         [-2.2785, -0.3628, -0.7464]],\n",
       "\n",
       "        [[-1.7664,  1.4555,  1.4739],\n",
       "         [ 1.9053, -0.2970, -0.6306]],\n",
       "\n",
       "        [[ 0.9050, -1.0441, -1.3340],\n",
       "         [-2.2785, -0.3628, -0.7464]],\n",
       "\n",
       "        [[ 0.0059,  0.4572,  1.0697],\n",
       "         [-1.0006,  0.2649,  0.6547]]], grad_fn=<ReshapeAliasBackward0>)"
      ]
     },
     "execution_count": 167,
     "metadata": {},
     "output_type": "execute_result"
    }
   ],
   "source": [
    "emb.reshape(emb.size(0) * emb.size(1), emb.size(2), emb.size(3))"
   ]
  },
  {
   "cell_type": "markdown",
   "id": "37b9e749",
   "metadata": {},
   "source": [
    "# nn.LSTM"
   ]
  },
  {
   "cell_type": "markdown",
   "id": "fbf7cfb9",
   "metadata": {},
   "source": [
    "Params:  \n",
    "squence_length: Number of hidden states  \n",
    "num_layers: number of rnn layers stack on top of each other  \n",
    "n_batch: the number of sequence in a batch\n",
    "\n",
    "Outputs:  \n",
    "output: the output of each hidden states  \n",
    "hn: the last hidden state of each sequence in the batch  \n",
    "cn: the last cell state of each sequence in the batch  \n"
   ]
  },
  {
   "cell_type": "code",
   "execution_count": 87,
   "id": "70cbcdce",
   "metadata": {},
   "outputs": [],
   "source": [
    "input_size = 3\n",
    "hidden_size = 3\n",
    "num_layers = 1\n",
    "sequence_length = 4\n",
    "n_batch = 2\n",
    "rnn = nn.LSTM(input_size, hidden_size, num_layers, batch_first=True, bidirectional=True)\n",
    "input = torch.randn(n_batch, sequence_length, input_size)\n",
    "h0 = torch.randn(n_batch, num_layers*2, hidden_size)\n",
    "c0 = torch.randn(n_batch, num_layers*2, hidden_size)\n",
    "output, (hn, cn) = rnn(input, (h0, c0))"
   ]
  },
  {
   "cell_type": "code",
   "execution_count": 88,
   "id": "5fc7b5af",
   "metadata": {},
   "outputs": [
    {
     "data": {
      "text/plain": [
       "<function Tensor.permute>"
      ]
     },
     "execution_count": 88,
     "metadata": {},
     "output_type": "execute_result"
    }
   ],
   "source": [
    "output.permute"
   ]
  },
  {
   "cell_type": "code",
   "execution_count": 89,
   "id": "26573cff",
   "metadata": {},
   "outputs": [
    {
     "data": {
      "text/plain": [
       "tensor([[[ 0.1273, -0.3526,  0.3220],\n",
       "         [ 0.1269,  0.1439,  0.2907]],\n",
       "\n",
       "        [[-0.3306, -0.0783,  0.0377],\n",
       "         [-0.1664, -0.1468, -0.0727]]], grad_fn=<StackBackward0>)"
      ]
     },
     "execution_count": 89,
     "metadata": {},
     "output_type": "execute_result"
    }
   ],
   "source": [
    "# (seq_len, batch, hidden_size)\n",
    "hn"
   ]
  },
  {
   "cell_type": "code",
   "execution_count": 90,
   "id": "dca373a2",
   "metadata": {},
   "outputs": [
    {
     "data": {
      "text/plain": [
       "tensor([[-0.3306, -0.0783,  0.0377],\n",
       "        [-0.1664, -0.1468, -0.0727]], grad_fn=<SelectBackward0>)"
      ]
     },
     "execution_count": 90,
     "metadata": {},
     "output_type": "execute_result"
    }
   ],
   "source": [
    "# Backwards LSTM\n",
    "hn[1]"
   ]
  },
  {
   "cell_type": "code",
   "execution_count": 91,
   "id": "a9c8f0fb",
   "metadata": {},
   "outputs": [
    {
     "data": {
      "text/plain": [
       "tensor([[ 0.1273, -0.3526,  0.3220],\n",
       "        [ 0.1269,  0.1439,  0.2907]], grad_fn=<SelectBackward0>)"
      ]
     },
     "execution_count": 91,
     "metadata": {},
     "output_type": "execute_result"
    }
   ],
   "source": [
    "# Forward LSTM\n",
    "hn[0]"
   ]
  },
  {
   "cell_type": "code",
   "execution_count": 92,
   "id": "566ef5b1",
   "metadata": {},
   "outputs": [
    {
     "data": {
      "text/plain": [
       "tensor([[[-0.1340,  0.1257,  0.2362, -0.3306, -0.0783,  0.0377],\n",
       "         [ 0.0345, -0.1481,  0.1990, -0.2299, -0.3198,  0.0165],\n",
       "         [ 0.1527, -0.2046,  0.2217, -0.3202, -0.3503,  0.0776],\n",
       "         [ 0.1273, -0.3526,  0.3220, -0.3173, -0.4222,  0.1390]],\n",
       "\n",
       "        [[-0.1891,  0.1778,  0.4068, -0.1664, -0.1468, -0.0727],\n",
       "         [-0.0138,  0.1425,  0.2929, -0.1228,  0.0751, -0.1080],\n",
       "         [ 0.1055, -0.0438,  0.4594, -0.1970, -0.2502,  0.2162],\n",
       "         [ 0.1269,  0.1439,  0.2907, -0.0205, -0.1369,  0.1589]]],\n",
       "       grad_fn=<TransposeBackward0>)"
      ]
     },
     "execution_count": 92,
     "metadata": {},
     "output_type": "execute_result"
    }
   ],
   "source": [
    "output"
   ]
  },
  {
   "cell_type": "code",
   "execution_count": 95,
   "id": "38851396",
   "metadata": {},
   "outputs": [
    {
     "data": {
      "text/plain": [
       "(tensor([[[-0.0357,  0.1048, -0.1129, -0.1005, -0.0903,  0.3420],\n",
       "          [ 0.3082, -0.1156, -0.1206,  0.0921,  0.0795,  0.2075],\n",
       "          [ 0.5103,  0.0907, -0.0201, -0.0298,  0.1361,  0.1658],\n",
       "          [ 0.0778, -0.1112, -0.1317,  0.0089,  0.0496,  0.0187]],\n",
       " \n",
       "         [[ 0.2277,  0.1505,  0.0413, -0.1344,  0.0460,  0.2704],\n",
       "          [ 0.2624,  0.3114, -0.1227, -0.1387, -0.3661,  0.1926],\n",
       "          [ 0.4210,  0.2460, -0.1437,  0.0407,  0.0697,  0.2172],\n",
       "          [ 0.4452, -0.0907, -0.2456,  0.1181, -0.1493,  0.1044]]],\n",
       "        grad_fn=<TransposeBackward0>),\n",
       " (tensor([[[ 0.0778, -0.1112, -0.1317],\n",
       "           [ 0.4452, -0.0907, -0.2456]],\n",
       "  \n",
       "          [[-0.1005, -0.0903,  0.3420],\n",
       "           [-0.1344,  0.0460,  0.2704]]], grad_fn=<StackBackward0>),\n",
       "  tensor([[[ 0.1584, -0.1729, -0.1996],\n",
       "           [ 0.7648, -0.1450, -0.3888]],\n",
       "  \n",
       "          [[-0.3640, -0.1378,  0.7178],\n",
       "           [-0.3973,  0.0749,  0.7218]]], grad_fn=<StackBackward0>)))"
      ]
     },
     "execution_count": 95,
     "metadata": {},
     "output_type": "execute_result"
    }
   ],
   "source": [
    "input_size = 3\n",
    "hidden_size = 3\n",
    "num_layers = 1\n",
    "sequence_length = 4\n",
    "n_batch = 2\n",
    "rnn = nn.LSTM(input_size, hidden_size, num_layers, batch_first=True, bidirectional=True)\n",
    "rnn(input)"
   ]
  },
  {
   "cell_type": "markdown",
   "id": "5f68f05b",
   "metadata": {},
   "source": [
    "# nn.linear"
   ]
  },
  {
   "cell_type": "code",
   "execution_count": 43,
   "id": "eeee25d7",
   "metadata": {},
   "outputs": [],
   "source": [
    "input_features = 3\n",
    "output_features = 1\n",
    "n_batch = 4\n",
    "seq_length = 3\n",
    "linear = nn.Linear(in_features=input_features, out_features=output_features)\n",
    "input = torch.randn(n_batch, seq_length, input_features)\n",
    "output = linear(input)"
   ]
  },
  {
   "cell_type": "code",
   "execution_count": 44,
   "id": "dcafb55e",
   "metadata": {},
   "outputs": [
    {
     "data": {
      "text/plain": [
       "tensor([[[-1.7558, -0.6634,  0.9518],\n",
       "         [ 0.9306,  0.2165,  0.4547],\n",
       "         [ 0.3520,  0.7379,  0.9461]],\n",
       "\n",
       "        [[ 0.4882, -0.3100,  0.1952],\n",
       "         [ 0.8007,  0.7878, -0.5927],\n",
       "         [ 0.2979, -0.0604, -1.5264]],\n",
       "\n",
       "        [[ 3.2773, -0.3718,  0.8022],\n",
       "         [ 0.2837, -2.2300, -0.1480],\n",
       "         [-0.8481, -1.0593, -1.3431]],\n",
       "\n",
       "        [[ 0.1086, -1.0265,  0.8042],\n",
       "         [-1.6906,  1.7651, -1.0986],\n",
       "         [ 0.4211, -0.5142,  1.1259]]])"
      ]
     },
     "execution_count": 44,
     "metadata": {},
     "output_type": "execute_result"
    }
   ],
   "source": [
    "input"
   ]
  },
  {
   "cell_type": "code",
   "execution_count": 45,
   "id": "c4069d6d",
   "metadata": {},
   "outputs": [
    {
     "data": {
      "text/plain": [
       "tensor([[[ 0.5643],\n",
       "         [ 0.1497],\n",
       "         [ 0.7433]],\n",
       "\n",
       "        [[-0.0960],\n",
       "         [ 0.1553],\n",
       "         [-0.4628]],\n",
       "\n",
       "        [[-0.6891],\n",
       "         [-1.1799],\n",
       "         [-0.6293]],\n",
       "\n",
       "        [[-0.1821],\n",
       "         [ 1.1910],\n",
       "         [ 0.1112]]], grad_fn=<AddBackward0>)"
      ]
     },
     "execution_count": 45,
     "metadata": {},
     "output_type": "execute_result"
    }
   ],
   "source": [
    "output"
   ]
  },
  {
   "cell_type": "markdown",
   "id": "0e6d8d2f",
   "metadata": {},
   "source": [
    "# torch.squeeze"
   ]
  },
  {
   "cell_type": "code",
   "execution_count": 48,
   "id": "409c576b",
   "metadata": {},
   "outputs": [],
   "source": [
    "x = torch.zeros(2,1,2,1,2)"
   ]
  },
  {
   "cell_type": "code",
   "execution_count": 49,
   "id": "38cac4ef",
   "metadata": {},
   "outputs": [
    {
     "data": {
      "text/plain": [
       "tensor([[[[[0., 0.]],\n",
       "\n",
       "          [[0., 0.]]]],\n",
       "\n",
       "\n",
       "\n",
       "        [[[[0., 0.]],\n",
       "\n",
       "          [[0., 0.]]]]])"
      ]
     },
     "execution_count": 49,
     "metadata": {},
     "output_type": "execute_result"
    }
   ],
   "source": [
    "x"
   ]
  },
  {
   "cell_type": "code",
   "execution_count": 50,
   "id": "0a751f11",
   "metadata": {},
   "outputs": [],
   "source": [
    "y = torch.squeeze(x)"
   ]
  },
  {
   "cell_type": "code",
   "execution_count": 51,
   "id": "5ee1a853",
   "metadata": {},
   "outputs": [
    {
     "data": {
      "text/plain": [
       "tensor([[[0., 0.],\n",
       "         [0., 0.]],\n",
       "\n",
       "        [[0., 0.],\n",
       "         [0., 0.]]])"
      ]
     },
     "execution_count": 51,
     "metadata": {},
     "output_type": "execute_result"
    }
   ],
   "source": [
    "y"
   ]
  },
  {
   "cell_type": "code",
   "execution_count": 102,
   "id": "7e883266",
   "metadata": {},
   "outputs": [
    {
     "name": "stdout",
     "output_type": "stream",
     "text": [
      "torch.Size([2])\n"
     ]
    },
    {
     "data": {
      "text/plain": [
       "tensor([0., 0.])"
      ]
     },
     "execution_count": 102,
     "metadata": {},
     "output_type": "execute_result"
    }
   ],
   "source": [
    "# torch.unsqueeze\n",
    "x = torch.zeros(2)\n",
    "print(x.shape)\n",
    "x"
   ]
  },
  {
   "cell_type": "code",
   "execution_count": 103,
   "id": "973a5168",
   "metadata": {},
   "outputs": [
    {
     "name": "stdout",
     "output_type": "stream",
     "text": [
      "torch.Size([2, 1])\n"
     ]
    },
    {
     "data": {
      "text/plain": [
       "tensor([[0.],\n",
       "        [0.]])"
      ]
     },
     "execution_count": 103,
     "metadata": {},
     "output_type": "execute_result"
    }
   ],
   "source": [
    "y = torch.unsqueeze(x, dim=1)\n",
    "print(y.shape)\n",
    "y"
   ]
  },
  {
   "cell_type": "code",
   "execution_count": 104,
   "id": "6a8c5787",
   "metadata": {},
   "outputs": [
    {
     "name": "stdout",
     "output_type": "stream",
     "text": [
      "torch.Size([1, 2])\n"
     ]
    },
    {
     "data": {
      "text/plain": [
       "tensor([[0., 0.]])"
      ]
     },
     "execution_count": 104,
     "metadata": {},
     "output_type": "execute_result"
    }
   ],
   "source": [
    "y = torch.unsqueeze(x, dim=0)\n",
    "print(y.shape)\n",
    "y"
   ]
  },
  {
   "cell_type": "markdown",
   "id": "d4bafacf",
   "metadata": {},
   "source": [
    "# torch.bmm\n",
    "Performs a batch matrix-matrix product of matrices stored in input and mat2."
   ]
  },
  {
   "cell_type": "code",
   "execution_count": 173,
   "id": "f61b3321",
   "metadata": {
    "scrolled": true
   },
   "outputs": [],
   "source": [
    "input = torch.randint(5, (2, 2, 2))"
   ]
  },
  {
   "cell_type": "code",
   "execution_count": 174,
   "id": "72b3198d",
   "metadata": {},
   "outputs": [
    {
     "data": {
      "text/plain": [
       "tensor([[[1, 0],\n",
       "         [1, 2]],\n",
       "\n",
       "        [[2, 3],\n",
       "         [4, 1]]])"
      ]
     },
     "execution_count": 174,
     "metadata": {},
     "output_type": "execute_result"
    }
   ],
   "source": [
    "input"
   ]
  },
  {
   "cell_type": "code",
   "execution_count": 183,
   "id": "6df67a80",
   "metadata": {},
   "outputs": [],
   "source": [
    "mat2 = torch.randint(5, (2, 2))"
   ]
  },
  {
   "cell_type": "code",
   "execution_count": 184,
   "id": "f6ee37c6",
   "metadata": {},
   "outputs": [
    {
     "data": {
      "text/plain": [
       "tensor([[1, 0],\n",
       "        [0, 3]])"
      ]
     },
     "execution_count": 184,
     "metadata": {},
     "output_type": "execute_result"
    }
   ],
   "source": [
    "mat2"
   ]
  },
  {
   "cell_type": "code",
   "execution_count": 185,
   "id": "168b7a5e",
   "metadata": {},
   "outputs": [
    {
     "name": "stdout",
     "output_type": "stream",
     "text": [
      "torch.Size([2, 2])\n",
      "torch.Size([2, 2, 1])\n"
     ]
    }
   ],
   "source": [
    "print(mat2.size())\n",
    "mat2 = torch.unsqueeze(mat2, dim=2)\n",
    "print(mat2.size())"
   ]
  },
  {
   "cell_type": "code",
   "execution_count": 186,
   "id": "56eb3aec",
   "metadata": {},
   "outputs": [
    {
     "data": {
      "text/plain": [
       "tensor([[[1],\n",
       "         [0]],\n",
       "\n",
       "        [[0],\n",
       "         [3]]])"
      ]
     },
     "execution_count": 186,
     "metadata": {},
     "output_type": "execute_result"
    }
   ],
   "source": [
    "mat2"
   ]
  },
  {
   "cell_type": "code",
   "execution_count": 178,
   "id": "0eb4f19e",
   "metadata": {},
   "outputs": [
    {
     "data": {
      "text/plain": [
       "torch.Size([2, 2, 1])"
      ]
     },
     "execution_count": 178,
     "metadata": {},
     "output_type": "execute_result"
    }
   ],
   "source": [
    "mat2.size()"
   ]
  },
  {
   "cell_type": "code",
   "execution_count": 187,
   "id": "7790d2f4",
   "metadata": {},
   "outputs": [
    {
     "name": "stdout",
     "output_type": "stream",
     "text": [
      "torch.Size([2, 2, 2]) x torch.Size([2, 2, 1])\n"
     ]
    },
    {
     "data": {
      "text/plain": [
       "torch.Size([2, 2, 1])"
      ]
     },
     "execution_count": 187,
     "metadata": {},
     "output_type": "execute_result"
    }
   ],
   "source": [
    "print('{} x {}'.format(input.size(), mat2.size()))\n",
    "bmm = input.bmm(mat2)\n",
    "bmm.size()"
   ]
  },
  {
   "cell_type": "code",
   "execution_count": 169,
   "id": "900bb074",
   "metadata": {
    "scrolled": false
   },
   "outputs": [
    {
     "data": {
      "text/plain": [
       "torch.Size([2, 2, 1])"
      ]
     },
     "execution_count": 169,
     "metadata": {},
     "output_type": "execute_result"
    }
   ],
   "source": [
    "res = torch.bmm(input, mat2)\n",
    "res.size()"
   ]
  },
  {
   "cell_type": "code",
   "execution_count": 170,
   "id": "9d6e61bf",
   "metadata": {},
   "outputs": [
    {
     "data": {
      "text/plain": [
       "tensor([[[1, 4],\n",
       "         [0, 3]],\n",
       "\n",
       "        [[3, 2],\n",
       "         [3, 3]]])"
      ]
     },
     "execution_count": 170,
     "metadata": {},
     "output_type": "execute_result"
    }
   ],
   "source": [
    "input"
   ]
  },
  {
   "cell_type": "code",
   "execution_count": 171,
   "id": "85869b89",
   "metadata": {},
   "outputs": [
    {
     "data": {
      "text/plain": [
       "tensor([[[0],\n",
       "         [4]],\n",
       "\n",
       "        [[1],\n",
       "         [3]]])"
      ]
     },
     "execution_count": 171,
     "metadata": {},
     "output_type": "execute_result"
    }
   ],
   "source": [
    "mat2"
   ]
  },
  {
   "cell_type": "code",
   "execution_count": 172,
   "id": "988106ed",
   "metadata": {},
   "outputs": [
    {
     "data": {
      "text/plain": [
       "tensor([[[16],\n",
       "         [12]],\n",
       "\n",
       "        [[ 9],\n",
       "         [12]]])"
      ]
     },
     "execution_count": 172,
     "metadata": {},
     "output_type": "execute_result"
    }
   ],
   "source": [
    "res"
   ]
  },
  {
   "cell_type": "markdown",
   "id": "8831e633",
   "metadata": {},
   "source": [
    "# torch.function.softmax"
   ]
  },
  {
   "cell_type": "code",
   "execution_count": 203,
   "id": "aad7cb01",
   "metadata": {},
   "outputs": [],
   "source": [
    "e_t = torch.randn(1, 2)"
   ]
  },
  {
   "cell_type": "code",
   "execution_count": 204,
   "id": "9f927bb4",
   "metadata": {},
   "outputs": [
    {
     "data": {
      "text/plain": [
       "tensor([[-1.2496,  0.9797]])"
      ]
     },
     "execution_count": 204,
     "metadata": {},
     "output_type": "execute_result"
    }
   ],
   "source": [
    "e_t"
   ]
  },
  {
   "cell_type": "code",
   "execution_count": 205,
   "id": "692473e0",
   "metadata": {},
   "outputs": [],
   "source": [
    "a = torch.nn.functional.softmax(e_t, dim=1)"
   ]
  },
  {
   "cell_type": "code",
   "execution_count": 207,
   "id": "ac21ab1d",
   "metadata": {},
   "outputs": [
    {
     "data": {
      "text/plain": [
       "tensor([[0.0972, 0.9028]])"
      ]
     },
     "execution_count": 207,
     "metadata": {},
     "output_type": "execute_result"
    }
   ],
   "source": [
    "a"
   ]
  },
  {
   "cell_type": "code",
   "execution_count": 206,
   "id": "7e6740a6",
   "metadata": {},
   "outputs": [
    {
     "data": {
      "text/plain": [
       "tensor(1.0000)"
      ]
     },
     "execution_count": 206,
     "metadata": {},
     "output_type": "execute_result"
    }
   ],
   "source": [
    "a.sum()"
   ]
  },
  {
   "cell_type": "markdown",
   "id": "08f267c9",
   "metadata": {},
   "source": [
    "# torch.stack"
   ]
  },
  {
   "cell_type": "code",
   "execution_count": 54,
   "id": "c1502e36",
   "metadata": {},
   "outputs": [
    {
     "data": {
      "text/plain": [
       "[tensor([[ 0.0068, -0.9010],\n",
       "         [ 1.2017,  0.2322],\n",
       "         [ 0.1824, -3.2524],\n",
       "         [ 0.3092,  0.6805],\n",
       "         [-1.2087,  0.2029]]),\n",
       " tensor([[-1.4229,  0.6015],\n",
       "         [ 0.1698, -0.6921],\n",
       "         [ 0.3015,  1.7531],\n",
       "         [ 0.0749, -1.0463],\n",
       "         [ 0.4371, -1.5216]]),\n",
       " tensor([[ 1.1616,  1.4032],\n",
       "         [-0.7861,  1.6476],\n",
       "         [-0.2370,  0.1055],\n",
       "         [-1.6340,  0.6849],\n",
       "         [-0.1305,  0.9114]]),\n",
       " tensor([[ 0.4900, -0.3961],\n",
       "         [-1.6474,  2.8038],\n",
       "         [-1.6253, -0.2727],\n",
       "         [-0.2024,  0.3787],\n",
       "         [-0.1197, -0.3842]])]"
      ]
     },
     "execution_count": 54,
     "metadata": {},
     "output_type": "execute_result"
    }
   ],
   "source": [
    "a = []\n",
    "for _ in range(4):\n",
    "    a.append(torch.randn(5,2))\n",
    "a"
   ]
  },
  {
   "cell_type": "code",
   "execution_count": null,
   "id": "a5d00723",
   "metadata": {},
   "outputs": [],
   "source": []
  },
  {
   "cell_type": "code",
   "execution_count": 60,
   "id": "c678ce8f",
   "metadata": {},
   "outputs": [
    {
     "data": {
      "text/plain": [
       "torch.Size([4, 5, 2])"
      ]
     },
     "execution_count": 60,
     "metadata": {},
     "output_type": "execute_result"
    }
   ],
   "source": [
    "torch.stack(a,dim=0).shape"
   ]
  },
  {
   "cell_type": "code",
   "execution_count": null,
   "id": "a8f2e83b",
   "metadata": {},
   "outputs": [],
   "source": [
    "torch.stack(a,dim=1).shape"
   ]
  },
  {
   "cell_type": "markdown",
   "id": "348ea1b8",
   "metadata": {},
   "source": [
    "# Hadamard Product\n",
    "Element Wise Product"
   ]
  },
  {
   "cell_type": "code",
   "execution_count": 17,
   "id": "0cb198cb",
   "metadata": {},
   "outputs": [],
   "source": [
    "input = torch.randint(5, (2, 2))\n",
    "input2 = torch.randint(5, (2, 2))"
   ]
  },
  {
   "cell_type": "code",
   "execution_count": 18,
   "id": "6c117893",
   "metadata": {},
   "outputs": [
    {
     "data": {
      "text/plain": [
       "tensor([[3, 3],\n",
       "        [4, 0]])"
      ]
     },
     "execution_count": 18,
     "metadata": {},
     "output_type": "execute_result"
    }
   ],
   "source": [
    "input"
   ]
  },
  {
   "cell_type": "code",
   "execution_count": 19,
   "id": "8281a04c",
   "metadata": {},
   "outputs": [
    {
     "data": {
      "text/plain": [
       "tensor([[2, 3],\n",
       "        [0, 3]])"
      ]
     },
     "execution_count": 19,
     "metadata": {},
     "output_type": "execute_result"
    }
   ],
   "source": [
    "input2"
   ]
  },
  {
   "cell_type": "code",
   "execution_count": 20,
   "id": "fb9c1045",
   "metadata": {},
   "outputs": [
    {
     "data": {
      "text/plain": [
       "tensor([[6, 9],\n",
       "        [0, 0]])"
      ]
     },
     "execution_count": 20,
     "metadata": {},
     "output_type": "execute_result"
    }
   ],
   "source": [
    "input * input2"
   ]
  },
  {
   "cell_type": "markdown",
   "id": "ad201a82",
   "metadata": {},
   "source": [
    "# Maxpool"
   ]
  },
  {
   "cell_type": "code",
   "execution_count": 131,
   "id": "0bd4cc53",
   "metadata": {},
   "outputs": [],
   "source": [
    "# target output size of 5\n",
    "max_pool = nn.AdaptiveMaxPool1d(1)"
   ]
  },
  {
   "cell_type": "code",
   "execution_count": 42,
   "id": "6b1b67bb",
   "metadata": {},
   "outputs": [
    {
     "data": {
      "text/plain": [
       "tensor([[[ 0.4940,  0.7870, -0.6775,  0.3213,  1.0749,  0.8203, -1.8714,\n",
       "           0.7055]]])"
      ]
     },
     "execution_count": 42,
     "metadata": {},
     "output_type": "execute_result"
    }
   ],
   "source": [
    "input"
   ]
  },
  {
   "cell_type": "code",
   "execution_count": 43,
   "id": "340d2e36",
   "metadata": {
    "scrolled": true
   },
   "outputs": [
    {
     "data": {
      "text/plain": [
       "tensor([[[1.0749]]])"
      ]
     },
     "execution_count": 43,
     "metadata": {},
     "output_type": "execute_result"
    }
   ],
   "source": [
    "output"
   ]
  },
  {
   "cell_type": "code",
   "execution_count": 37,
   "id": "bf575d2a",
   "metadata": {},
   "outputs": [
    {
     "name": "stdout",
     "output_type": "stream",
     "text": [
      "tensor([[[0., 1., 2., 3., 4.]]])\n"
     ]
    }
   ],
   "source": [
    "x = torch.arange(0, 5).view(1, 1, -1).float()\n",
    "print(x)"
   ]
  },
  {
   "cell_type": "markdown",
   "id": "fecf06c3",
   "metadata": {},
   "source": [
    "# Conv1D"
   ]
  },
  {
   "cell_type": "code",
   "execution_count": 126,
   "id": "4dc7dd14",
   "metadata": {},
   "outputs": [],
   "source": [
    "f = 2 # CS224N Number of embedding\n",
    "e_char = 2\n",
    "m_word = 4\n",
    "m = nn.Conv1d(in_channels=e_char, out_channels=f, kernel_size=3, stride=1)\n",
    "input = torch.randn(2, e_char, m_word)\n",
    "output = m(input)"
   ]
  },
  {
   "cell_type": "code",
   "execution_count": 127,
   "id": "93abbf2f",
   "metadata": {},
   "outputs": [
    {
     "data": {
      "text/plain": [
       "tensor([[[-0.9011,  0.7827,  0.3014,  1.4253],\n",
       "         [ 0.4824,  0.2495,  1.8797,  0.1667]],\n",
       "\n",
       "        [[ 2.1960, -1.8411,  0.2877,  0.9253],\n",
       "         [-0.0929,  1.3117,  0.6784,  0.1913]]])"
      ]
     },
     "execution_count": 127,
     "metadata": {},
     "output_type": "execute_result"
    }
   ],
   "source": [
    "input"
   ]
  },
  {
   "cell_type": "code",
   "execution_count": 128,
   "id": "9d6e4d22",
   "metadata": {},
   "outputs": [
    {
     "data": {
      "text/plain": [
       "torch.Size([2, 2, 2])"
      ]
     },
     "execution_count": 128,
     "metadata": {},
     "output_type": "execute_result"
    }
   ],
   "source": [
    "output.shape"
   ]
  },
  {
   "cell_type": "code",
   "execution_count": 129,
   "id": "100b736d",
   "metadata": {},
   "outputs": [
    {
     "data": {
      "text/plain": [
       "tensor([[[ 0.3249,  0.2966],\n",
       "         [-0.5313, -0.6488]],\n",
       "\n",
       "        [[-0.7856,  0.6592],\n",
       "         [-0.2762,  0.4601]]], grad_fn=<SqueezeBackward1>)"
      ]
     },
     "execution_count": 129,
     "metadata": {},
     "output_type": "execute_result"
    }
   ],
   "source": [
    "output"
   ]
  },
  {
   "cell_type": "code",
   "execution_count": 102,
   "id": "44e39998",
   "metadata": {},
   "outputs": [
    {
     "data": {
      "text/plain": [
       "torch.Size([2, 2])"
      ]
     },
     "execution_count": 102,
     "metadata": {},
     "output_type": "execute_result"
    }
   ],
   "source": [
    "output.squeeze(dim=2).shape"
   ]
  },
  {
   "cell_type": "code",
   "execution_count": 134,
   "id": "0096ca5f",
   "metadata": {},
   "outputs": [
    {
     "data": {
      "text/plain": [
       "tensor([[[0.3249, 0.2966],\n",
       "         [0.0000, 0.0000]],\n",
       "\n",
       "        [[0.0000, 0.6592],\n",
       "         [0.0000, 0.4601]]], grad_fn=<ReluBackward0>)"
      ]
     },
     "execution_count": 134,
     "metadata": {},
     "output_type": "execute_result"
    }
   ],
   "source": [
    "F.relu(output)"
   ]
  },
  {
   "cell_type": "code",
   "execution_count": 137,
   "id": "394e0aec",
   "metadata": {
    "scrolled": true
   },
   "outputs": [
    {
     "data": {
      "text/plain": [
       "torch.Size([2, 2, 1])"
      ]
     },
     "execution_count": 137,
     "metadata": {},
     "output_type": "execute_result"
    }
   ],
   "source": [
    "max_pool(output).shape"
   ]
  },
  {
   "cell_type": "code",
   "execution_count": null,
   "id": "ff2477c3",
   "metadata": {},
   "outputs": [],
   "source": []
  }
 ],
 "metadata": {
  "kernelspec": {
   "display_name": "Python 3 (ipykernel)",
   "language": "python",
   "name": "python3"
  },
  "language_info": {
   "codemirror_mode": {
    "name": "ipython",
    "version": 3
   },
   "file_extension": ".py",
   "mimetype": "text/x-python",
   "name": "python",
   "nbconvert_exporter": "python",
   "pygments_lexer": "ipython3",
   "version": "3.8.12"
  }
 },
 "nbformat": 4,
 "nbformat_minor": 5
}

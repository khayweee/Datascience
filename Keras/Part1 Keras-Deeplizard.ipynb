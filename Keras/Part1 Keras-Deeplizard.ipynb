{
 "cells": [
  {
   "cell_type": "markdown",
   "metadata": {},
   "source": [
    "# 1. Generating Fake Data"
   ]
  },
  {
   "cell_type": "code",
   "execution_count": 1,
   "metadata": {},
   "outputs": [],
   "source": [
    "import numpy as np\n",
    "from random import randint\n",
    "from sklearn.utils import shuffle\n",
    "from sklearn.preprocessing import MinMaxScaler"
   ]
  },
  {
   "cell_type": "code",
   "execution_count": 9,
   "metadata": {},
   "outputs": [],
   "source": [
    "train_labels = []\n",
    "train_samples = []"
   ]
  },
  {
   "cell_type": "markdown",
   "metadata": {},
   "source": [
    "Example Data\n",
    "- An experimental Drug was tested on individuals from ages 13 to 100 in a clinical trial\n",
    "- The trial had 2100 participants. Half were under 65 years old, half were above 65\n",
    "- Around 95% of the participants >= 65 experienced side effects\n",
    "- around 95% of the participants < 65  experienced no side effects"
   ]
  },
  {
   "cell_type": "code",
   "execution_count": 10,
   "metadata": {},
   "outputs": [],
   "source": [
    "for i in range(50):\n",
    "    random_younger = randint(13,64)\n",
    "    train_samples.append(random_younger)\n",
    "    train_labels.append(1)\n",
    "    \n",
    "    random_older = randint(65,100)\n",
    "    train_samples.append(random_older)\n",
    "    train_labels.append(0)\n",
    "\n",
    "for i in range(1000):\n",
    "    \n",
    "    random_younger = randint(13,64)\n",
    "    train_samples.append(random_younger)\n",
    "    train_labels.append(0)\n",
    "    \n",
    "    random_older = randint(65,100)\n",
    "    train_samples.append(random_older)\n",
    "    train_labels.append(1)"
   ]
  },
  {
   "cell_type": "code",
   "execution_count": 13,
   "metadata": {},
   "outputs": [],
   "source": [
    "train_labels = np.array(train_labels)\n",
    "train_samples = np.array(train_samples)\n",
    "train_labels, train_samples = shuffle(train_labels, train_samples)"
   ]
  },
  {
   "cell_type": "code",
   "execution_count": 16,
   "metadata": {},
   "outputs": [
    {
     "data": {
      "text/plain": [
       "array([66, 58, 37, ..., 84, 89, 98])"
      ]
     },
     "execution_count": 16,
     "metadata": {},
     "output_type": "execute_result"
    }
   ],
   "source": [
    "train_samples"
   ]
  },
  {
   "cell_type": "code",
   "execution_count": 20,
   "metadata": {},
   "outputs": [],
   "source": [
    "scalar = MinMaxScaler(feature_range=(0,1))\n",
    "scaled_train_samples = scalar.fit_transform(train_samples.reshape(-1,1))"
   ]
  },
  {
   "cell_type": "markdown",
   "metadata": {},
   "source": [
    "# 2. Simple tf.keras Sequential Model"
   ]
  },
  {
   "cell_type": "code",
   "execution_count": 22,
   "metadata": {},
   "outputs": [],
   "source": [
    "import tensorflow as tf\n",
    "from tensorflow import keras\n",
    "from tensorflow.keras.models import Sequential\n",
    "from tensorflow.keras.layers import Activation, Dense\n",
    "from tensorflow.keras.optimizers import Adam\n",
    "from tensorflow.keras.metrics import categorical_crossentropy"
   ]
  },
  {
   "cell_type": "code",
   "execution_count": 23,
   "metadata": {},
   "outputs": [
    {
     "name": "stdout",
     "output_type": "stream",
     "text": [
      "Num GPUs Available:  0\n"
     ]
    }
   ],
   "source": [
    "physical_devices = tf.config.experimental.list_physical_devices('GPU')\n",
    "print('Num GPUs Available: ', len(physical_devices))"
   ]
  },
  {
   "cell_type": "code",
   "execution_count": 24,
   "metadata": {},
   "outputs": [],
   "source": [
    "# Dense is the first Hidden Layer (FULLY CONNECTED LAYER)\n",
    "# There is a hidden input layer that is not explicitly specified here\n",
    "# it is inferred from the input_shape\n",
    "# First hidden layer has 16 neurons\n",
    "# Second hidden layer has 32 neurons\n",
    "# Output layer has 2 neurons (2 possible outputs side effects or not)\n",
    "model = Sequential([\n",
    "    Dense(units=16, input_shape=(1,), activation='relu'),\n",
    "    Dense(units=32, activation='relu'),\n",
    "    Dense(units=2, activation='softmax'),\n",
    "])"
   ]
  },
  {
   "cell_type": "code",
   "execution_count": 25,
   "metadata": {},
   "outputs": [
    {
     "name": "stdout",
     "output_type": "stream",
     "text": [
      "Model: \"sequential\"\n",
      "_________________________________________________________________\n",
      "Layer (type)                 Output Shape              Param #   \n",
      "=================================================================\n",
      "dense (Dense)                (None, 16)                32        \n",
      "_________________________________________________________________\n",
      "dense_1 (Dense)              (None, 32)                544       \n",
      "_________________________________________________________________\n",
      "dense_2 (Dense)              (None, 2)                 66        \n",
      "=================================================================\n",
      "Total params: 642\n",
      "Trainable params: 642\n",
      "Non-trainable params: 0\n",
      "_________________________________________________________________\n"
     ]
    }
   ],
   "source": [
    "model.summary()"
   ]
  },
  {
   "cell_type": "markdown",
   "metadata": {},
   "source": [
    "# 3. Train Model"
   ]
  },
  {
   "cell_type": "code",
   "execution_count": 26,
   "metadata": {},
   "outputs": [],
   "source": [
    "model.compile(optimizer=Adam(learning_rate=0.0001), loss='sparse_categorical_crossentropy', metrics=['accuracy'])"
   ]
  },
  {
   "cell_type": "code",
   "execution_count": 29,
   "metadata": {},
   "outputs": [
    {
     "name": "stdout",
     "output_type": "stream",
     "text": [
      "Epoch 1/30\n",
      "210/210 [==============================] - 0s 551us/step - loss: 0.2469 - accuracy: 0.9419\n",
      "Epoch 2/30\n",
      "210/210 [==============================] - 0s 544us/step - loss: 0.2465 - accuracy: 0.9419\n",
      "Epoch 3/30\n",
      "210/210 [==============================] - 0s 556us/step - loss: 0.2461 - accuracy: 0.9419\n",
      "Epoch 4/30\n",
      "210/210 [==============================] - 0s 545us/step - loss: 0.2459 - accuracy: 0.9419\n",
      "Epoch 5/30\n",
      "210/210 [==============================] - 0s 545us/step - loss: 0.2454 - accuracy: 0.9419\n",
      "Epoch 6/30\n",
      "210/210 [==============================] - 0s 535us/step - loss: 0.2452 - accuracy: 0.9443\n",
      "Epoch 7/30\n",
      "210/210 [==============================] - 0s 532us/step - loss: 0.2448 - accuracy: 0.9419\n",
      "Epoch 8/30\n",
      "210/210 [==============================] - 0s 569us/step - loss: 0.2446 - accuracy: 0.9419\n",
      "Epoch 9/30\n",
      "210/210 [==============================] - 0s 552us/step - loss: 0.2442 - accuracy: 0.9419\n",
      "Epoch 10/30\n",
      "210/210 [==============================] - 0s 541us/step - loss: 0.2440 - accuracy: 0.9419\n",
      "Epoch 11/30\n",
      "210/210 [==============================] - 0s 574us/step - loss: 0.2437 - accuracy: 0.9419\n",
      "Epoch 12/30\n",
      "210/210 [==============================] - 0s 588us/step - loss: 0.2436 - accuracy: 0.9438\n",
      "Epoch 13/30\n",
      "210/210 [==============================] - 0s 603us/step - loss: 0.2432 - accuracy: 0.9419\n",
      "Epoch 14/30\n",
      "210/210 [==============================] - 0s 558us/step - loss: 0.2429 - accuracy: 0.9419\n",
      "Epoch 15/30\n",
      "210/210 [==============================] - 0s 541us/step - loss: 0.2428 - accuracy: 0.9429\n",
      "Epoch 16/30\n",
      "210/210 [==============================] - 0s 536us/step - loss: 0.2425 - accuracy: 0.9443\n",
      "Epoch 17/30\n",
      "210/210 [==============================] - 0s 560us/step - loss: 0.2422 - accuracy: 0.9424\n",
      "Epoch 18/30\n",
      "210/210 [==============================] - 0s 563us/step - loss: 0.2422 - accuracy: 0.9433\n",
      "Epoch 19/30\n",
      "210/210 [==============================] - 0s 567us/step - loss: 0.2418 - accuracy: 0.9443\n",
      "Epoch 20/30\n",
      "210/210 [==============================] - 0s 546us/step - loss: 0.2416 - accuracy: 0.9419\n",
      "Epoch 21/30\n",
      "210/210 [==============================] - 0s 545us/step - loss: 0.2414 - accuracy: 0.9443\n",
      "Epoch 22/30\n",
      "210/210 [==============================] - 0s 663us/step - loss: 0.2412 - accuracy: 0.9476\n",
      "Epoch 23/30\n",
      "210/210 [==============================] - 0s 545us/step - loss: 0.2411 - accuracy: 0.9419\n",
      "Epoch 24/30\n",
      "210/210 [==============================] - 0s 545us/step - loss: 0.2408 - accuracy: 0.9452\n",
      "Epoch 25/30\n",
      "210/210 [==============================] - 0s 541us/step - loss: 0.2406 - accuracy: 0.9462\n",
      "Epoch 26/30\n",
      "210/210 [==============================] - 0s 536us/step - loss: 0.2405 - accuracy: 0.9452\n",
      "Epoch 27/30\n",
      "210/210 [==============================] - 0s 550us/step - loss: 0.2404 - accuracy: 0.9481\n",
      "Epoch 28/30\n",
      "210/210 [==============================] - 0s 555us/step - loss: 0.2404 - accuracy: 0.9443\n",
      "Epoch 29/30\n",
      "210/210 [==============================] - 0s 536us/step - loss: 0.2399 - accuracy: 0.9429\n",
      "Epoch 30/30\n",
      "210/210 [==============================] - 0s 560us/step - loss: 0.2398 - accuracy: 0.9448\n"
     ]
    },
    {
     "data": {
      "text/plain": [
       "<tensorflow.python.keras.callbacks.History at 0x1c79be7e3a0>"
      ]
     },
     "execution_count": 29,
     "metadata": {},
     "output_type": "execute_result"
    }
   ],
   "source": [
    "# Shuffle gets rid of any order that was present in the train data before being passed on to the model\n",
    "model.fit(x=scaled_train_samples, y=train_labels, batch_size=10, epochs=30, shuffle=True)"
   ]
  },
  {
   "cell_type": "code",
   "execution_count": null,
   "metadata": {},
   "outputs": [],
   "source": []
  }
 ],
 "metadata": {
  "kernelspec": {
   "display_name": "Python 3",
   "language": "python",
   "name": "python3"
  },
  "language_info": {
   "codemirror_mode": {
    "name": "ipython",
    "version": 3
   },
   "file_extension": ".py",
   "mimetype": "text/x-python",
   "name": "python",
   "nbconvert_exporter": "python",
   "pygments_lexer": "ipython3",
   "version": "3.8.8"
  }
 },
 "nbformat": 4,
 "nbformat_minor": 2
}

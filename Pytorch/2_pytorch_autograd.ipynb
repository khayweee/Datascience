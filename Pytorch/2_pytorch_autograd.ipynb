{
 "cells": [
  {
   "cell_type": "markdown",
   "metadata": {},
   "source": [
    "# Autograd\n",
    "Computing Gradient in Pytorch\n",
    "\n",
    "require_grad = True\n",
    "\n",
    "Tells pytorch to compute the gradient for the tensor for the operation that has been performed\n",
    "i.e. The backpropagation for the specific perceptron layer\n",
    "\n",
    "Jacobian Matrix of Chain Rule"
   ]
  },
  {
   "cell_type": "code",
   "execution_count": 1,
   "metadata": {},
   "outputs": [],
   "source": [
    "import torch"
   ]
  },
  {
   "cell_type": "code",
   "execution_count": 3,
   "metadata": {},
   "outputs": [
    {
     "name": "stdout",
     "output_type": "stream",
     "text": [
      "tensor([-0.7851, -0.5255, -0.8914], requires_grad=True)\n",
      "tensor([1.2149, 1.4745, 1.1086], grad_fn=<AddBackward0>)\n",
      "tensor([2.4299, 2.9490, 2.2173], grad_fn=<MulBackward0>)\n",
      "tensor(2.5321, grad_fn=<MeanBackward0>)\n"
     ]
    }
   ],
   "source": [
    "x = torch.randn(3, requires_grad=True)\n",
    "print(x)\n",
    "\n",
    "y = x + 2\n",
    "print(y) # Will show the AddBackward\n",
    "z = y * 2 \n",
    "print(z) # Will show the MulBackward\n",
    "z = z.mean()\n",
    "print(z)"
   ]
  },
  {
   "cell_type": "code",
   "execution_count": 4,
   "metadata": {},
   "outputs": [
    {
     "name": "stdout",
     "output_type": "stream",
     "text": [
      "tensor([0.6667, 0.6667, 0.6667])\n"
     ]
    }
   ],
   "source": [
    "# to initiate the computation of gradient w.r.t x\n",
    "z.backward()\n",
    "print(x.grad)"
   ]
  },
  {
   "cell_type": "markdown",
   "metadata": {},
   "source": [
    "# To prevent gradient update"
   ]
  },
  {
   "cell_type": "code",
   "execution_count": 8,
   "metadata": {},
   "outputs": [
    {
     "name": "stdout",
     "output_type": "stream",
     "text": [
      "tensor([ 0.4356, -2.1155, -0.8405], requires_grad=True)\n",
      "tensor([ 0.4356, -2.1155, -0.8405])\n",
      "tensor([ 2.4356, -0.1155,  1.1595])\n"
     ]
    }
   ],
   "source": [
    "x = torch.randn(3, requires_grad=True)\n",
    "print(x)\n",
    "\n",
    "x.requires_grad_(False) # In-place\n",
    "y = x.detach()\n",
    "print(y)\n",
    "with torch.no_grad():\n",
    "    y = x + 2\n",
    "    print(y)\n"
   ]
  },
  {
   "cell_type": "markdown",
   "metadata": {},
   "source": [
    "# Simulate gradient update"
   ]
  },
  {
   "cell_type": "code",
   "execution_count": 12,
   "metadata": {},
   "outputs": [
    {
     "name": "stdout",
     "output_type": "stream",
     "text": [
      "tensor([3., 3., 3., 3.])\n",
      "tensor([3., 3., 3., 3.])\n",
      "tensor([3., 3., 3., 3.])\n"
     ]
    }
   ],
   "source": [
    "import torch\n",
    "\n",
    "weights = torch.ones(4, requires_grad=True)\n",
    "\n",
    "for epoch in range(3):\n",
    "    \"\"\"\n",
    "    optimizer = torch.optim.SGD(weights, lr=0.001)\n",
    "    optimizer.step()\n",
    "    optimizer.zero_grad()\n",
    "    \"\"\"\n",
    "    model_output = (weights * 3).sum()\n",
    "    \n",
    "    # Inititate Backprop\n",
    "    model_output.backward()\n",
    "\n",
    "    # Show accumulated gradient\n",
    "    print(weights.grad)\n",
    "\n",
    "    # Need to zero the gradient before performing the next epoch\n",
    "    weights.grad.zero_()"
   ]
  },
  {
   "cell_type": "markdown",
   "metadata": {},
   "source": [
    "Manually Compute Simple Linear Regression\n",
    "(Numpy)"
   ]
  },
  {
   "cell_type": "code",
   "execution_count": 4,
   "metadata": {},
   "outputs": [
    {
     "name": "stdout",
     "output_type": "stream",
     "text": [
      "Prediction before training: f(5) = 0.000\n",
      "epoch 1: w= 1.200, loss =30.00000000\n",
      "epoch 3: w= 1.872, loss =0.76800019\n",
      "epoch 5: w= 1.980, loss =0.01966083\n",
      "epoch 7: w= 1.997, loss =0.00050332\n",
      "epoch 9: w= 1.999, loss =0.00001288\n",
      "epoch 11: w= 2.000, loss =0.00000033\n",
      "epoch 13: w= 2.000, loss =0.00000001\n",
      "epoch 15: w= 2.000, loss =0.00000000\n",
      "epoch 17: w= 2.000, loss =0.00000000\n",
      "epoch 19: w= 2.000, loss =0.00000000\n",
      "Prediction after training: f(5) = 10.000\n"
     ]
    }
   ],
   "source": [
    "import numpy as np\n",
    "\n",
    "# We want our function\n",
    "# f = W * x\n",
    "# where W is 2\n",
    "\n",
    "# Sample data\n",
    "X = np.array([1,2,3,4], dtype=np.float32)\n",
    "Y = np.array([2,4,6,8], dtype=np.float32)\n",
    "\n",
    "# initialise initial weight = 0\n",
    "w = 0.0\n",
    "\n",
    "# model prediction\n",
    "def forward(x):\n",
    "    return w * x\n",
    "\n",
    "# loss = MSE\n",
    "def loss(y, y_predicted):\n",
    "    return ((y_predicted-y)**2).mean()\n",
    "\n",
    "# update gradient\n",
    "# MSE = 1/N * (w*x -y)**2\n",
    "# dJ/dw = 1/N * 2*x(w*x - y)\n",
    "def gradient(x, y, y_predicted):\n",
    "    # dJ/dw = 1/N * 2*x(w*x - y\n",
    "    return np.dot(2*x, y_predicted-y).mean()\n",
    "\n",
    "print(f'Prediction before training: f(5) = {forward(5):.3f}')\n",
    "\n",
    "# training \n",
    "learning_rate = 0.01\n",
    "n_iters = 20\n",
    "for epoch in range(n_iters):\n",
    "    # Prediction = forward pass\n",
    "    y_pred = forward(X)\n",
    "\n",
    "    # loss\n",
    "    l = loss(Y, y_pred)\n",
    "\n",
    "    # gradients\n",
    "    dw = gradient(X,Y,y_pred)\n",
    "\n",
    "    # update weights\n",
    "    w -= learning_rate*dw\n",
    "\n",
    "    if epoch % 2 == 0:\n",
    "        print(f'epoch {epoch+1}: w= {w:.3f}, loss ={l:.8f}')\n",
    "\n",
    "print(f'Prediction after training: f(5) = {forward(5):.3f}')"
   ]
  },
  {
   "cell_type": "markdown",
   "metadata": {},
   "source": [
    "Manually Compute Linear Regression (Torch)"
   ]
  },
  {
   "cell_type": "code",
   "execution_count": 21,
   "metadata": {},
   "outputs": [
    {
     "name": "stdout",
     "output_type": "stream",
     "text": [
      "Prediction before training: f(5) = 0.000\n",
      "epoch 1: w= 3.000, loss =30.00000000\n",
      "epoch 11: w= 2.001, loss =0.00002861\n",
      "epoch 21: w= 2.000, loss =0.00000000\n",
      "epoch 31: w= 2.000, loss =0.00000000\n",
      "epoch 41: w= 2.000, loss =0.00000000\n",
      "epoch 51: w= 2.000, loss =0.00000000\n",
      "epoch 61: w= 2.000, loss =0.00000000\n",
      "epoch 71: w= 2.000, loss =0.00000000\n",
      "epoch 81: w= 2.000, loss =0.00000000\n",
      "epoch 91: w= 2.000, loss =0.00000000\n",
      "Prediction after training: f(5) = 10.000\n"
     ]
    }
   ],
   "source": [
    "import torch\n",
    "\n",
    "# We want our function\n",
    "# f = W * x\n",
    "# where W is 2\n",
    "\n",
    "# Sample data\n",
    "X = torch.tensor([1,2,3,4], dtype=torch.float32)\n",
    "Y = torch.tensor([2,4,6,8], dtype=torch.float32)\n",
    "\n",
    "# initialise initial weight = 0\n",
    "w = torch.tensor(0.0, dtype=torch.float32, requires_grad=True)\n",
    "\n",
    "# model prediction\n",
    "def forward(x):\n",
    "    return w * x\n",
    "\n",
    "# loss = MSE\n",
    "def loss(y, y_predicted):\n",
    "    return ((y_predicted-y)**2).mean()\n",
    "\n",
    "print(f'Prediction before training: f(5) = {forward(5):.3f}')\n",
    "\n",
    "# training \n",
    "learning_rate = 0.0.1\n",
    "n_iters = 100\n",
    "for epoch in range(n_iters):\n",
    "    # Prediction = forward pass\n",
    "    y_pred = forward(X)\n",
    "\n",
    "    # loss\n",
    "    l = loss(Y, y_pred)\n",
    "\n",
    "    # gradients\n",
    "    l.backward() #dl/dw\n",
    "\n",
    "    # update weights\n",
    "    with torch.no_grad():\n",
    "        w -= learning_rate * w.grad\n",
    "    \n",
    "    # zero gradient\n",
    "    w.grad.zero_()\n",
    "\n",
    "    if epoch % 10 == 0:\n",
    "        print(f'epoch {epoch+1}: w= {w:.3f}, loss ={l:.8f}')\n",
    "\n",
    "print(f'Prediction after training: f(5) = {forward(5):.3f}')"
   ]
  },
  {
   "cell_type": "markdown",
   "metadata": {},
   "source": [
    "Pytorch Training Pipeline\n",
    "1. Design model (Input, Output size , forward pass)\n",
    "2. Construct loss and optimizer\n",
    "3. Training loop  \n",
    "    a. forward pass: compute prediction  \n",
    "    b. backward pass: gradients  \n",
    "    c. update weights\n"
   ]
  },
  {
   "cell_type": "code",
   "execution_count": 36,
   "metadata": {},
   "outputs": [
    {
     "name": "stdout",
     "output_type": "stream",
     "text": [
      "4 1\n",
      "Prediction before training: f(5) = -4.454\n",
      "epoch 1: w= -0.696, loss =67.17584229\n",
      "epoch 101: w= 1.456, loss =2.31811523\n",
      "epoch 201: w= 1.856, loss =0.08370954\n",
      "epoch 301: w= 1.932, loss =0.00651644\n",
      "epoch 401: w= 1.947, loss =0.00364620\n",
      "epoch 501: w= 1.951, loss =0.00334841\n",
      "epoch 601: w= 1.953, loss =0.00315082\n",
      "epoch 701: w= 1.955, loss =0.00296757\n",
      "epoch 801: w= 1.956, loss =0.00279507\n",
      "epoch 901: w= 1.957, loss =0.00263260\n",
      "Prediction after training : f(5) = 9.915\n"
     ]
    }
   ],
   "source": [
    "import torch\n",
    "import torch.nn as nn\n",
    "\n",
    "# We want our function\n",
    "# f = W * x\n",
    "# where W is 2\n",
    "\n",
    "# Sample data\n",
    "X = torch.tensor([[1],[2],[3],[4]], dtype=torch.float32)\n",
    "Y = torch.tensor([[2],[4],[6],[8]], dtype=torch.float32)\n",
    "X_test = torch.tensor([5], dtype=torch.float32)\n",
    "\n",
    "n_samples, n_features = X.shape\n",
    "print(n_samples, n_features)\n",
    "\n",
    "input_size = n_features\n",
    "output_size = n_features\n",
    "# initialise initial weight = 0\n",
    "w = torch.tensor(0.0, dtype=torch.float32, requires_grad=True)\n",
    "\n",
    "# model declaration\n",
    "class LinearRegression(nn.Module):\n",
    "    def __init__(self, input_dim, output_dim):\n",
    "        super(LinearRegression, self).__init__()\n",
    "        self.lin = nn.Linear(in_features=input_dim,\n",
    "                             out_features=output_dim)\n",
    "\n",
    "    def forward(self, x):\n",
    "        return self.lin(x)\n",
    "\n",
    "model = LinearRegression(input_size, output_size)\n",
    "\n",
    "print(f'Prediction before training: f(5) = {model(X_test).item():.3f}')\n",
    "\n",
    "# Training \n",
    "learning_rate = 0.001\n",
    "n_iters = 1000\n",
    "\n",
    "loss = nn.MSELoss()\n",
    "optimizer = torch.optim.SGD(model.parameters(), lr=learning_rate)\n",
    "\n",
    "for epoch in range(n_iters):\n",
    "    # Prediction = forward pass\n",
    "    y_pred = model(X)\n",
    "\n",
    "    # loss\n",
    "    l = loss(Y, y_pred)\n",
    "\n",
    "    # gradients\n",
    "    l.backward() #dl/dw\n",
    "\n",
    "    # update weights\n",
    "    optimizer.step()\n",
    "    \n",
    "    # zero gradient\n",
    "    optimizer.zero_grad()\n",
    "\n",
    "    if epoch % 100 == 0:\n",
    "        [w, b] = model.parameters()\n",
    "\n",
    "        print(f'epoch {epoch+1}: w= {w[0][0].item():.3f}, loss ={l:.8f}')\n",
    "\n",
    "print(f'Prediction after training : f(5) = {model(X_test).item():.3f}')"
   ]
  },
  {
   "cell_type": "code",
   "execution_count": null,
   "metadata": {},
   "outputs": [],
   "source": []
  },
  {
   "cell_type": "code",
   "execution_count": null,
   "metadata": {},
   "outputs": [],
   "source": []
  }
 ],
 "metadata": {
  "interpreter": {
   "hash": "871976618ca3d8d3edff85623d5a5150d8567b9a957a85b267c03c38737a099f"
  },
  "kernelspec": {
   "display_name": "Python 3.8.12 ('nlp')",
   "language": "python",
   "name": "python3"
  },
  "language_info": {
   "codemirror_mode": {
    "name": "ipython",
    "version": 3
   },
   "file_extension": ".py",
   "mimetype": "text/x-python",
   "name": "python",
   "nbconvert_exporter": "python",
   "pygments_lexer": "ipython3",
   "version": "3.8.12"
  },
  "orig_nbformat": 4
 },
 "nbformat": 4,
 "nbformat_minor": 2
}

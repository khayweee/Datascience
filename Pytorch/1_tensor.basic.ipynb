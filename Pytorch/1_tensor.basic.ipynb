{
 "cells": [
  {
   "cell_type": "code",
   "execution_count": 1,
   "metadata": {},
   "outputs": [],
   "source": [
    "import torch"
   ]
  },
  {
   "cell_type": "code",
   "execution_count": 2,
   "metadata": {},
   "outputs": [],
   "source": [
    "if torch.cuda.is_available():\n",
    "    device = torch.device('cuda')\n",
    "    # creating element on device\n",
    "    x = torch.ones(5, device=device)\n",
    "    # moving elements to device\n",
    "    y = torch.ones(5)\n",
    "    y = y.to(device)\n",
    "    # moving back to cpu\n",
    "    z = x + y # Operation is still done on the GPU\n",
    "    z = z.to(\"cpu\")"
   ]
  },
  {
   "cell_type": "markdown",
   "metadata": {},
   "source": [
    "# Tensor \n",
    "types of tensor includes\n",
    "1. torch.empty\n",
    "2. torch.ones\n",
    "3. torch.randn\n",
    "4. torch.randint\n"
   ]
  },
  {
   "cell_type": "code",
   "execution_count": 3,
   "metadata": {},
   "outputs": [
    {
     "name": "stdout",
     "output_type": "stream",
     "text": [
      "tensor([0., 0., 0.])\n",
      "torch.float32\n",
      "torch.Size([3])\n",
      "--------------------------------------------------------------------------------\n",
      "tensor([[1, 1, 1],\n",
      "        [1, 1, 1]], dtype=torch.int32)\n",
      "torch.int32\n",
      "torch.Size([2, 3])\n"
     ]
    }
   ],
   "source": [
    "# Prints a 1 dimensional array of tensor\n",
    "x = torch.empty(3)\n",
    "print(x)\n",
    "print(x.dtype)\n",
    "print(x.size())\n",
    "print('-'*80)\n",
    "\n",
    "# Prints a 2x3 dimenstional array of tensor\n",
    "x = torch.ones(2,3, dtype=torch.int32)\n",
    "print(x)        # Prints the tensor\n",
    "print(x.dtype)  # Prints the dtype of the elements\n",
    "print(x.size()) # Prints the shape of tensor"
   ]
  },
  {
   "cell_type": "markdown",
   "metadata": {},
   "source": [
    "## Custom Tensor"
   ]
  },
  {
   "cell_type": "code",
   "execution_count": 9,
   "metadata": {},
   "outputs": [
    {
     "name": "stdout",
     "output_type": "stream",
     "text": [
      "tensor([2.5000, 0.1000])\n",
      "torch.float32\n",
      "torch.Size([2])\n"
     ]
    }
   ],
   "source": [
    "# Custom 1 dimensional tensor\n",
    "x = torch.tensor([2.5,0.1])\n",
    "print(x)\n",
    "print(x.dtype)\n",
    "print(x.size())"
   ]
  },
  {
   "cell_type": "markdown",
   "metadata": {},
   "source": [
    "# Operations on Tensor"
   ]
  },
  {
   "cell_type": "code",
   "execution_count": 11,
   "metadata": {},
   "outputs": [
    {
     "name": "stdout",
     "output_type": "stream",
     "text": [
      "tensor([[1.5073, 0.8410],\n",
      "        [0.0988, 1.3570]])\n"
     ]
    },
    {
     "data": {
      "text/plain": [
       "tensor([[1.5073, 0.8410],\n",
       "        [0.0988, 1.3570]])"
      ]
     },
     "execution_count": 11,
     "metadata": {},
     "output_type": "execute_result"
    }
   ],
   "source": [
    "x = torch.rand(2, 2)\n",
    "y = torch.rand(2, 2)\n",
    "\n",
    "# Addition\n",
    "z = x + y # == z = x.add(y)\n",
    "print(z)\n",
    "\n",
    "# In place operation\n",
    "# this will replace the elements in y\n",
    "y.add_(x)"
   ]
  },
  {
   "cell_type": "markdown",
   "metadata": {},
   "source": [
    "# Slicing"
   ]
  },
  {
   "cell_type": "code",
   "execution_count": 15,
   "metadata": {},
   "outputs": [
    {
     "name": "stdout",
     "output_type": "stream",
     "text": [
      "tensor([[0.0203, 0.1089, 0.8402],\n",
      "        [0.9614, 0.7788, 0.2405],\n",
      "        [0.0665, 0.0696, 0.9140],\n",
      "        [0.0302, 0.2248, 0.9032],\n",
      "        [0.0241, 0.8712, 0.8879]])\n"
     ]
    }
   ],
   "source": [
    "x = torch.rand(5, 3)\n",
    "print(x)"
   ]
  },
  {
   "cell_type": "code",
   "execution_count": 21,
   "metadata": {},
   "outputs": [
    {
     "name": "stdout",
     "output_type": "stream",
     "text": [
      "Row vector\n",
      "tensor([0.0203, 0.9614, 0.0665, 0.0302, 0.0241])\n",
      "Column Vector\n",
      "tensor([[0.0203],\n",
      "        [0.9614],\n",
      "        [0.0665],\n",
      "        [0.0302],\n",
      "        [0.0241]])\n"
     ]
    }
   ],
   "source": [
    "# First Column\n",
    "# Row Vector\n",
    "print(\"Row vector\")\n",
    "print(x[:, 0])\n",
    "\n",
    "# Transpose for Column vector\n",
    "print(\"Column Vector\")\n",
    "print(x[:, 0].unsqueeze(dim=0).permute(1,0))"
   ]
  },
  {
   "cell_type": "code",
   "execution_count": 22,
   "metadata": {},
   "outputs": [
    {
     "name": "stdout",
     "output_type": "stream",
     "text": [
      "Row vector\n",
      "tensor([0.0203, 0.1089, 0.8402])\n",
      "Column Vector\n",
      "tensor([[0.0203],\n",
      "        [0.1089],\n",
      "        [0.8402]])\n"
     ]
    }
   ],
   "source": [
    "# First row\n",
    "# Row Vector\n",
    "print(\"Row vector\")\n",
    "print(x[0, :])\n",
    "\n",
    "# Transpose for Column vector\n",
    "print(\"Column Vector\")\n",
    "print(x[0, :].unsqueeze(dim=0).permute(1,0))"
   ]
  },
  {
   "cell_type": "markdown",
   "metadata": {},
   "source": [
    "## Getting the value of the tensor \n",
    "Only when the tensor has a single element"
   ]
  },
  {
   "cell_type": "code",
   "execution_count": 26,
   "metadata": {},
   "outputs": [
    {
     "name": "stdout",
     "output_type": "stream",
     "text": [
      "tensor(0.7788)\n",
      "0.7787730097770691\n"
     ]
    }
   ],
   "source": [
    "z = x[1,1]\n",
    "print(z)\n",
    "print(z.item())"
   ]
  },
  {
   "cell_type": "markdown",
   "metadata": {},
   "source": [
    "# Reshaping Tensor"
   ]
  },
  {
   "cell_type": "code",
   "execution_count": 27,
   "metadata": {},
   "outputs": [
    {
     "name": "stdout",
     "output_type": "stream",
     "text": [
      "tensor([[0.5885, 0.9966, 0.8519, 0.3416],\n",
      "        [0.0889, 0.2146, 0.9760, 0.9309],\n",
      "        [0.8226, 0.7531, 0.3415, 0.4749],\n",
      "        [0.0890, 0.1638, 0.4877, 0.5143]])\n"
     ]
    }
   ],
   "source": [
    "x = torch.rand(4,4)\n",
    "print(x)"
   ]
  },
  {
   "cell_type": "code",
   "execution_count": 31,
   "metadata": {},
   "outputs": [
    {
     "name": "stdout",
     "output_type": "stream",
     "text": [
      "tensor([0.5885, 0.9966, 0.8519, 0.3416, 0.0889, 0.2146, 0.9760, 0.9309, 0.8226,\n",
      "        0.7531, 0.3415, 0.4749, 0.0890, 0.1638, 0.4877, 0.5143])\n",
      "torch.Size([16])\n",
      "tensor([[0.5885, 0.9966, 0.8519, 0.3416, 0.0889, 0.2146, 0.9760, 0.9309],\n",
      "        [0.8226, 0.7531, 0.3415, 0.4749, 0.0890, 0.1638, 0.4877, 0.5143]])\n",
      "torch.Size([2, 8])\n"
     ]
    }
   ],
   "source": [
    "# Single vector\n",
    "# Number in view must commute with the total number of\n",
    "# elements in the tensor\n",
    "y = x.view(16)\n",
    "print(y)\n",
    "print(y.size())\n",
    "\n",
    "# Tensor auto decide\n",
    "y = x.view(-1, 8)\n",
    "print(y)\n",
    "print(y.size())"
   ]
  },
  {
   "cell_type": "markdown",
   "metadata": {},
   "source": [
    "# Tensor to Numpy conversion"
   ]
  },
  {
   "cell_type": "code",
   "execution_count": 32,
   "metadata": {},
   "outputs": [],
   "source": [
    "import torch\n",
    "import numpy as np"
   ]
  },
  {
   "cell_type": "markdown",
   "metadata": {},
   "source": [
    "## Tensor to Numpy"
   ]
  },
  {
   "cell_type": "code",
   "execution_count": 35,
   "metadata": {},
   "outputs": [
    {
     "name": "stdout",
     "output_type": "stream",
     "text": [
      "tensor([1., 1., 1., 1., 1.])\n",
      "[1. 1. 1. 1. 1.]\n",
      "After adding 1 to Torch Tensor\n",
      "tensor([2., 2., 2., 2., 2.])\n",
      "[2. 2. 2. 2. 2.]\n"
     ]
    }
   ],
   "source": [
    "a = torch.ones(5)\n",
    "print(a)\n",
    "b = a.numpy() # this will convert a to numpy\n",
    "print(b)\n",
    "# BEWARE: This will cause the values to share the same memory location\n",
    "# i.e. changing one value will change another one\n",
    "# e.g.\n",
    "print(\"After adding 1 to Torch Tensor\")\n",
    "a.add_(1)\n",
    "print(a)\n",
    "print(b)\n"
   ]
  },
  {
   "cell_type": "markdown",
   "metadata": {},
   "source": [
    "## Numpy to Tensor"
   ]
  },
  {
   "cell_type": "code",
   "execution_count": 38,
   "metadata": {},
   "outputs": [
    {
     "name": "stdout",
     "output_type": "stream",
     "text": [
      "[1. 1. 1. 1. 1.]\n",
      "tensor([1., 1., 1., 1., 1.], dtype=torch.float64)\n",
      "After adding 1 to numpy array\n",
      "[2. 2. 2. 2. 2.]\n",
      "tensor([2., 2., 2., 2., 2.], dtype=torch.float64)\n"
     ]
    }
   ],
   "source": [
    "a = np.ones(5)\n",
    "print(a)\n",
    "b = torch.from_numpy(a)\n",
    "print(b)\n",
    "\n",
    "# These will also share the same memory location\n",
    "a += 1\n",
    "print(\"After adding 1 to numpy array\")\n",
    "print(a)\n",
    "print(b)"
   ]
  },
  {
   "cell_type": "code",
   "execution_count": null,
   "metadata": {},
   "outputs": [],
   "source": []
  }
 ],
 "metadata": {
  "interpreter": {
   "hash": "871976618ca3d8d3edff85623d5a5150d8567b9a957a85b267c03c38737a099f"
  },
  "kernelspec": {
   "display_name": "Python 3.8.12 ('nlp')",
   "language": "python",
   "name": "python3"
  },
  "language_info": {
   "codemirror_mode": {
    "name": "ipython",
    "version": 3
   },
   "file_extension": ".py",
   "mimetype": "text/x-python",
   "name": "python",
   "nbconvert_exporter": "python",
   "pygments_lexer": "ipython3",
   "version": "3.8.12"
  },
  "orig_nbformat": 4
 },
 "nbformat": 4,
 "nbformat_minor": 2
}
